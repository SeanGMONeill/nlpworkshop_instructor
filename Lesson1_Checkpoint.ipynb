{
  "nbformat": 4,
  "nbformat_minor": 0,
  "metadata": {
    "colab": {
      "provenance": [],
      "authorship_tag": "ABX9TyNY+goLoBXRDyHS2XUcquXR",
      "include_colab_link": true
    },
    "kernelspec": {
      "name": "python3",
      "display_name": "Python 3"
    },
    "language_info": {
      "name": "python"
    }
  },
  "cells": [
    {
      "cell_type": "markdown",
      "metadata": {
        "id": "view-in-github",
        "colab_type": "text"
      },
      "source": [
        "<a href=\"https://colab.research.google.com/github/SeanGMONeill/nlpworkshop_instructor/blob/main/Lesson1_Checkpoint.ipynb\" target=\"_parent\"><img src=\"https://colab.research.google.com/assets/colab-badge.svg\" alt=\"Open In Colab\"/></a>"
      ]
    },
    {
      "cell_type": "code",
      "execution_count": 1,
      "metadata": {
        "colab": {
          "base_uri": "https://localhost:8080/"
        },
        "id": "w8E2gXumi_T2",
        "outputId": "e22f71c6-659f-42e4-a957-03bc1b8ed376"
      },
      "outputs": [
        {
          "output_type": "stream",
          "name": "stdout",
          "text": [
            "Input [type \"exit\" to exit]: exit\n",
            "Setting run to False, ending the while loop\n"
          ]
        }
      ],
      "source": [
        "run = True\n",
        "while run:\n",
        "  x = input('Input [type \"exit\" to exit]: ')\n",
        "  if x == 'exit':\n",
        "    print('Setting run to False, ending the while loop')\n",
        "    run = False\n",
        "  else:\n",
        "    print(x)"
      ]
    }
  ]
}