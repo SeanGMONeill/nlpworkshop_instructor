{
  "nbformat": 4,
  "nbformat_minor": 0,
  "metadata": {
    "colab": {
      "provenance": [],
      "authorship_tag": "ABX9TyOZBojivrkzkKXuB1UqTKeN",
      "include_colab_link": true
    },
    "kernelspec": {
      "name": "python3",
      "display_name": "Python 3"
    },
    "language_info": {
      "name": "python"
    }
  },
  "cells": [
    {
      "cell_type": "markdown",
      "metadata": {
        "id": "view-in-github",
        "colab_type": "text"
      },
      "source": [
        "<a href=\"https://colab.research.google.com/github/SeanGMONeill/nlpworkshop_instructor/blob/main/Lesson3_Checkpoint.ipynb\" target=\"_parent\"><img src=\"https://colab.research.google.com/assets/colab-badge.svg\" alt=\"Open In Colab\"/></a>"
      ]
    },
    {
      "cell_type": "markdown",
      "source": [
        "Example of how student code should look at the end of this lesson:"
      ],
      "metadata": {
        "id": "S5RyG5LDntmJ"
      }
    },
    {
      "cell_type": "code",
      "source": [
        "# This command will install chatterbot-corpus, a library which contains a corpus of conversations in YAML format\n",
        "# You can view these raw files in the chatterbot-corpus GitHub repo: https://github.com/gunthercox/chatterbot-corpus/tree/master/chatterbot_corpus/data/english\n",
        "!pip install chatterbot-corpus\n",
        "\n",
        "import chatterbot_corpus\n",
        "from yaml import load\n",
        "import inspect\n",
        "import os\n",
        "import random"
      ],
      "metadata": {
        "colab": {
          "base_uri": "https://localhost:8080/"
        },
        "id": "VCtfn_Tv3cLC",
        "outputId": "c723bc4d-906e-459c-a49f-9ab459c95fb9"
      },
      "execution_count": 9,
      "outputs": [
        {
          "output_type": "stream",
          "name": "stdout",
          "text": [
            "Looking in indexes: https://pypi.org/simple, https://us-python.pkg.dev/colab-wheels/public/simple/\n",
            "Requirement already satisfied: chatterbot-corpus in /usr/local/lib/python3.8/dist-packages (1.2.0)\n",
            "Requirement already satisfied: PyYAML<4.0,>=3.12 in /usr/local/lib/python3.8/dist-packages (from chatterbot-corpus) (3.13)\n"
          ]
        }
      ]
    },
    {
      "cell_type": "code",
      "source": [
        "# Initialize the run variable to True\n",
        "run = True\n",
        "\n",
        "def tokenize(msg):\n",
        "  msg = msg.lower()\n",
        "  tokens = msg.split(' ')\n",
        "  return tokens\n",
        "\n",
        "\n",
        "def remove_punctuation(msg):\n",
        "  symbols = ['?','-',',',':',';','!']\n",
        "  for symbol in symbols:\n",
        "    msg = msg.replace(symbol, '')\n",
        "  return msg\n",
        "\n",
        "elements = {\n",
        "    'hydrogen': 1,\n",
        "    'oxygen': 8,\n",
        "    'carbon': 3,\n",
        "    'plutonium': 94,\n",
        "    'helium': 2,\n",
        "    'lithium': 3\n",
        "}\n",
        "\n",
        "\n",
        "def normalize_text(msg):\n",
        "  msg = msg.lower()\n",
        "  symbols = ['?','-',',',':',';']\n",
        "  for symbol in symbols:\n",
        "    msg = msg.replace(symbol, '')\n",
        "  return msg\n",
        "\n",
        "\n",
        "def choose_response(msg):\n",
        "  try:\n",
        "\n",
        "    # Fetch the list of possible responses\n",
        "    options = lookup[normalize_text(msg)]\n",
        "    # Return a randomly selected item from the list (using the Python random library)\n",
        "    return random.choice(options)\n",
        "\n",
        "  # Handle the case where the input isn't in the dictionary\n",
        "  except KeyError:\n",
        "    return None\n",
        "\n",
        "\n",
        "# Create a dict of msg->response from the files in the corpus\n",
        "def load_conversations_from_corpus():\n",
        "  # 1) Get the location of the corpus YAML files installed with the chatterbot corpus package\n",
        "  data_path = os.path.join(os.path.dirname(inspect.getfile(chatterbot_corpus)), 'data/english')\n",
        "\n",
        "  # 2) Build a list of conversations (each file is a full conversation)\n",
        "  conversations = []\n",
        "  for file in os.listdir(data_path):\n",
        "    convos = load(open(os.path.join(data_path, file), 'r'))\n",
        "    conversations = conversations + convos['conversations']\n",
        "\n",
        "  # 3) Build a dictionary of all the msg->[response] pairs in every conversation\n",
        "  lookup = {}\n",
        "  for convo in conversations:\n",
        "    lookup[normalize_text(convo.pop(0))] = convo # Note we're now normalizing the dictionary key. We're keeping the responses in their original case, with punctuation.\n",
        "  return lookup\n",
        "\n",
        "lookup = load_conversations_from_corpus()\n",
        "\n",
        "\n",
        "# While run is still True, loop through the rest of the script\n",
        "while run:\n",
        "  # Wait for the user to input text, and store it in the msg variable\n",
        "  msg = input().lower()\n",
        "  msg = remove_punctuation(msg)\n",
        "  tokens = tokenize(msg)\n",
        "  # Try to get a response from the corpus - this might be None\n",
        "  corpus_response = choose_response(msg)\n",
        "  # Give a response, based on the input (if we recognise it)\n",
        "  if msg == 'exit':\n",
        "    print('Goodbye!')\n",
        "    # Set run to False, so the loop won't run again\n",
        "    # This means we won't be trapped in an infinite loop\n",
        "    run = False\n",
        "  elif corpus_response:\n",
        "    print(corpus_response)\n",
        "  elif msg == 'hello':\n",
        "    print('Hi!')\n",
        "  elif msg == 'how are you':\n",
        "    print('I\\'m pretty good, thanks!')\n",
        "  elif 'rain' in tokens:\n",
        "    print('I love rain!')\n",
        "  elif 'atomic number' in msg:\n",
        "    found_element = False\n",
        "    for token in tokens:\n",
        "      if token in elements:\n",
        "        print('The atomic number for {element} is {symbol}'.format(element=token, symbol=elements[token]))\n",
        "        found_element = True\n",
        "    if not found_element:\n",
        "      print('You asked about an atomic number, but I don\\'t recognise an element name in your message')\n",
        "  # If the input doesn't match any of our statements, print a generic answer\n",
        "  else:\n",
        "    print('Sorry, I don\\'t understand')"
      ],
      "metadata": {
        "colab": {
          "base_uri": "https://localhost:8080/"
        },
        "id": "MWtiF19mqBYl",
        "outputId": "42cd7d12-349a-4992-959d-f120374d5531"
      },
      "execution_count": 10,
      "outputs": [
        {
          "output_type": "stream",
          "name": "stdout",
          "text": [
            "hello\n",
            "Greetings!\n",
            "how are you?\n",
            "I am doing well.\n",
            "what's a computer?\n",
            "Sorry, I don't understand\n",
            "what is a computer?\n",
            "The thing you're using to talk to me is a computer.\n",
            "how are you?\n",
            "I am doing well.\n",
            "great!\n",
            "Sorry, I don't understand\n",
            "do you enjoy the rain?\n",
            "I love rain!\n",
            "goodbye\n",
            "Sorry, I don't understand\n",
            "exit\n",
            "Goodbye!\n"
          ]
        }
      ]
    },
    {
      "cell_type": "markdown",
      "source": [
        "This lesson is less prescriptive than lesson 2, so the code might differ somewhat and still be valid.\n",
        "\n",
        "Here, they're introduced to a corpus of historical conversations, and shown a way to build a very basic chatbot from this. \n",
        "\n",
        "They're re-introduced to the concept of cleaning up the user input to improve the hit-rate (making the bot case-insensitive), and are shown how they could use Python's random library to create a non-deterministic chatbot which doesn't always serve the same response to a question (by picking at random from a bank of multiple replies).\n",
        "\n"
      ],
      "metadata": {
        "id": "BTAuZ7ua2ZSs"
      }
    },
    {
      "cell_type": "markdown",
      "source": [
        "**TASK:**\n",
        "* Modify your chatbot to give a randomized reply from this training data. \n",
        "* If the user's input isn't in the corpus, the bot should reply using your existing logic. \n",
        "* Ensure that your chemical symbol question still works.\n",
        "\n",
        "There's only one task in this lesson - the students are given the freedom to implement a set of requirements in whatever way they can.\n",
        "\n",
        "Below is an example of some steps they'll need to take for a sensible approach.\n",
        "\n",
        "# Installation and Imports\n",
        "\n",
        "Add imports (and install chatterbot-corpus) at the top of their notebook: \n",
        "```\n",
        "# This command will install chatterbot-corpus, a library which contains a corpus of conversations in YAML format\n",
        "# You can view these raw files in the chatterbot-corpus GitHub repo: https://github.com/gunthercox/chatterbot-corpus/tree/master/chatterbot_corpus/data/english\n",
        "!pip install chatterbot-corpus\n",
        "\n",
        "import chatterbot_corpus\n",
        "from yaml import load\n",
        "import inspect\n",
        "import os\n",
        "import random\n",
        "```\n",
        "\n",
        "This can be copy-pasted from the top two code cells of the lesson notebook. If the students are hitting any *NameError*s, double-check that they have all the imports. *import random* is introduced at the relevant point in the lesson\n",
        "\n",
        "If they hit any *ModuleNotFoundError*s, confirm that they have the *pip install* line, to fetch the chatterbot_corpus before importing it."
      ],
      "metadata": {
        "id": "ucqoW8Sbk9_j"
      }
    },
    {
      "cell_type": "markdown",
      "source": [
        "# Loading the corpus\n",
        "\n",
        "Students will need to load the corpus, in order to access it. To avoid the tedium of writing this themselves, they're expected to copy-paste .... from the lesson.\n",
        "\n",
        "This function will need to be created *and* executed prior to the main while loop.\n",
        "\n",
        "```\n",
        "def normalize_text(msg):\n",
        "  msg = msg.lower()\n",
        "  symbols = ['?','-',',',':',';','!']\n",
        "  for symbol in symbols:\n",
        "    msg = msg.replace(symbol, '')\n",
        "  return msg\n",
        "\n",
        "# Create a dict of msg->response from the files in the corpus\n",
        "def load_conversations_from_corpus():\n",
        "  # 1) Get the location of the corpus YAML files installed with the chatterbot corpus package\n",
        "  data_path = os.path.join(os.path.dirname(inspect.getfile(chatterbot_corpus)), 'data/english')\n",
        "\n",
        "  # 2) Build a list of conversations (each file is a full conversation)\n",
        "  conversations = []\n",
        "  for file in os.listdir(data_path):\n",
        "    convos = load(open(os.path.join(data_path, file), 'r'))\n",
        "    conversations = conversations + convos['conversations']\n",
        "\n",
        "  # 3) Build a dictionary of all the msg->[response] pairs in every conversation\n",
        "  lookup = {}\n",
        "  for convo in conversations:\n",
        "    lookup[normalize_text(convo.pop(0))] = convo # Note we're now normalizing the dictionary key. We're keeping the responses in their original case, with punctuation.\n",
        "  return lookup\n",
        "\n",
        "lookup = load_conversations_from_corpus()\n",
        "```\n",
        "\n",
        "If they run into any issues, they should ensure that they've copied the **load_conversations_from_corpus()** method from towards the end of the lessont, not the **load_conversations_from_corpus_simple()** method (which doesn't clean up the text).\n",
        "\n",
        "Note this method is dependent upon **normalize_text(msg)**, which they'll also need to copy from the lesson."
      ],
      "metadata": {
        "id": "6eRbEWaY4mpI"
      }
    },
    {
      "cell_type": "markdown",
      "source": [
        "# Choosing a Response\n",
        "\n",
        "As the task involves returning a random response based on the user's input, the students can borrow from the **choose_response(msg)** method in the lesson. \n",
        "\n",
        "They'll probably need to modify this slightly to tidily fit into their program. Below is one example of a modified version:\n",
        "\n",
        "```\n",
        "def choose_response(msg):\n",
        "  try:\n",
        "\n",
        "    # Fetch the list of possible responses\n",
        "    options = lookup[normalize_text(msg)]\n",
        "    # Return a randomly selected item from the list (using the Python random library)\n",
        "    return random.choice(options)\n",
        "\n",
        "  # Handle the case where the input isn't in the dictionary\n",
        "  except KeyError:\n",
        "    return None\n",
        "```\n",
        "\n",
        "The only modification is the final **return** in the KeyError case - this will return the Python special value *None* if there is no valid response in the corpus, rather than throwing an error. \n",
        "\n",
        "The original version returned specific text, but a *None* is easier/tidier to deal with within a program.\n",
        "\n",
        "They could try to get a response (using choose_response) and store it in a variable before they enter their if,elif,else cases, then add a case for it.\n",
        "\n",
        "\n",
        "```\n",
        "  # Try to get a response from the corpus - this might be None\n",
        "  corpus_response = choose_response(msg)\n",
        "  # Give a response, based on the input (if we recognise it)\n",
        "  if msg == 'exit':\n",
        "    print('Goodbye!')\n",
        "    # Set run to False, so the loop won't run again\n",
        "    # This means we won't be trapped in an infinite loop\n",
        "    run = False\n",
        "  elif corpus_response:\n",
        "    print(corpus_response)\n",
        "  #elif ...(the rest of their existing cases)\n",
        "```\n",
        "\n",
        "*corpus_response* will evaluate to True if it has a value, and False if it's set to None (no response found in the corpus), so the *elif corpus_response* will only be entered if there's a response to print."
      ],
      "metadata": {
        "id": "HBk0WjUa84Kx"
      }
    }
  ]
}