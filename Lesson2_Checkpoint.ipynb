{
  "nbformat": 4,
  "nbformat_minor": 0,
  "metadata": {
    "colab": {
      "provenance": [],
      "authorship_tag": "ABX9TyMYXsxiF9UHSkAL0NhqAWb6",
      "include_colab_link": true
    },
    "kernelspec": {
      "name": "python3",
      "display_name": "Python 3"
    },
    "language_info": {
      "name": "python"
    }
  },
  "cells": [
    {
      "cell_type": "markdown",
      "metadata": {
        "id": "view-in-github",
        "colab_type": "text"
      },
      "source": [
        "<a href=\"https://colab.research.google.com/github/SeanGMONeill/nlpworkshop_instructor/blob/main/Lesson2_Checkpoint.ipynb\" target=\"_parent\"><img src=\"https://colab.research.google.com/assets/colab-badge.svg\" alt=\"Open In Colab\"/></a>"
      ]
    },
    {
      "cell_type": "markdown",
      "source": [
        "Example of how student code should look at the end of this lesson:"
      ],
      "metadata": {
        "id": "S5RyG5LDntmJ"
      }
    },
    {
      "cell_type": "code",
      "source": [
        "# Initialize the run variable to True\n",
        "run = True\n",
        "\n",
        "def tokenize(msg):\n",
        "  msg = msg.lower()\n",
        "  tokens = msg.split(' ')\n",
        "  return tokens\n",
        "\n",
        "\n",
        "def remove_punctuation(msg):\n",
        "  symbols = ['?','-',',',':',';','!']\n",
        "  for symbol in symbols:\n",
        "    msg = msg.replace(symbol, '')\n",
        "  return msg\n",
        "\n",
        "elements = {\n",
        "    'hydrogen': 1,\n",
        "    'oxygen': 8,\n",
        "    'carbon': 3,\n",
        "    'plutonium': 94,\n",
        "    'helium': 2,\n",
        "    'lithium': 3\n",
        "}\n",
        "\n",
        "\n",
        "# While run is still True, loop through the rest of the script\n",
        "while run:\n",
        "  # Wait for the user to input text, and store it in the msg variable\n",
        "  msg = input().lower()\n",
        "  msg = remove_punctuation(msg)\n",
        "  tokens = tokenize(msg)\n",
        "  # Give a response, based on the input (if we recognise it)\n",
        "  if msg == 'exit':\n",
        "    print('Goodbye!')\n",
        "    # Set run to False, so the loop won't run again\n",
        "    # This means we won't be trapped in an infinite loop\n",
        "    run = False\n",
        "  elif msg == 'hello':\n",
        "    print('Hi!')\n",
        "  elif msg == 'how are you':\n",
        "    print('I\\'m pretty good, thanks!')\n",
        "  elif 'rain' in tokens:\n",
        "    print('I love rain!')\n",
        "  elif 'atomic number' in msg:\n",
        "    found_element = False\n",
        "    for token in tokens:\n",
        "      if token in elements:\n",
        "        print('The atomic number for {element} is {symbol}'.format(element=token, symbol=elements[token]))\n",
        "        found_element = True\n",
        "    if not found_element:\n",
        "      print('You asked about an atomic number, but I don\\'t recognise an element name in your message')\n",
        "  # If the input doesn't match any of our statements, print a generic answer\n",
        "  else:\n",
        "    print('Sorry, I don\\'t understand')"
      ],
      "metadata": {
        "colab": {
          "base_uri": "https://localhost:8080/",
          "height": 383
        },
        "id": "MWtiF19mqBYl",
        "outputId": "770159ad-2624-4d34-b2c1-dc6e7ef0722b"
      },
      "execution_count": 1,
      "outputs": [
        {
          "name": "stdout",
          "output_type": "stream",
          "text": [
            "hello\n"
          ]
        },
        {
          "output_type": "error",
          "ename": "NameError",
          "evalue": "ignored",
          "traceback": [
            "\u001b[0;31m---------------------------------------------------------------------------\u001b[0m",
            "\u001b[0;31mNameError\u001b[0m                                 Traceback (most recent call last)",
            "\u001b[0;32m<ipython-input-1-845e1fce3e31>\u001b[0m in \u001b[0;36m<module>\u001b[0;34m\u001b[0m\n\u001b[1;32m     29\u001b[0m   \u001b[0mmsg\u001b[0m \u001b[0;34m=\u001b[0m \u001b[0minput\u001b[0m\u001b[0;34m(\u001b[0m\u001b[0;34m)\u001b[0m\u001b[0;34m.\u001b[0m\u001b[0mlower\u001b[0m\u001b[0;34m(\u001b[0m\u001b[0;34m)\u001b[0m\u001b[0;34m\u001b[0m\u001b[0;34m\u001b[0m\u001b[0m\n\u001b[1;32m     30\u001b[0m   \u001b[0mmsg\u001b[0m \u001b[0;34m=\u001b[0m \u001b[0mremove_punctuation\u001b[0m\u001b[0;34m(\u001b[0m\u001b[0mmsg\u001b[0m\u001b[0;34m)\u001b[0m\u001b[0;34m\u001b[0m\u001b[0;34m\u001b[0m\u001b[0m\n\u001b[0;32m---> 31\u001b[0;31m   \u001b[0mtokens\u001b[0m \u001b[0;34m=\u001b[0m \u001b[0mtokenize\u001b[0m\u001b[0;34m(\u001b[0m\u001b[0mmsg\u001b[0m\u001b[0;34m)\u001b[0m\u001b[0;34m\u001b[0m\u001b[0;34m\u001b[0m\u001b[0m\n\u001b[0m\u001b[1;32m     32\u001b[0m   \u001b[0;31m# Give a response, based on the input (if we recognise it)\u001b[0m\u001b[0;34m\u001b[0m\u001b[0;34m\u001b[0m\u001b[0;34m\u001b[0m\u001b[0m\n\u001b[1;32m     33\u001b[0m   \u001b[0;32mif\u001b[0m \u001b[0mmsg\u001b[0m \u001b[0;34m==\u001b[0m \u001b[0;34m'exit'\u001b[0m\u001b[0;34m:\u001b[0m\u001b[0;34m\u001b[0m\u001b[0;34m\u001b[0m\u001b[0m\n",
            "\u001b[0;32m<ipython-input-1-845e1fce3e31>\u001b[0m in \u001b[0;36mtokenize\u001b[0;34m(msg)\u001b[0m\n\u001b[1;32m      3\u001b[0m \u001b[0;34m\u001b[0m\u001b[0m\n\u001b[1;32m      4\u001b[0m \u001b[0;32mdef\u001b[0m \u001b[0mtokenize\u001b[0m\u001b[0;34m(\u001b[0m\u001b[0mmsg\u001b[0m\u001b[0;34m)\u001b[0m\u001b[0;34m:\u001b[0m\u001b[0;34m\u001b[0m\u001b[0;34m\u001b[0m\u001b[0m\n\u001b[0;32m----> 5\u001b[0;31m   \u001b[0mmsg\u001b[0m \u001b[0;34m=\u001b[0m \u001b[0mmseg\u001b[0m\u001b[0;34m.\u001b[0m\u001b[0mlower\u001b[0m\u001b[0;34m(\u001b[0m\u001b[0;34m)\u001b[0m\u001b[0;34m\u001b[0m\u001b[0;34m\u001b[0m\u001b[0m\n\u001b[0m\u001b[1;32m      6\u001b[0m   \u001b[0mtokens\u001b[0m \u001b[0;34m=\u001b[0m \u001b[0mmsg\u001b[0m\u001b[0;34m.\u001b[0m\u001b[0msplit\u001b[0m\u001b[0;34m(\u001b[0m\u001b[0;34m' '\u001b[0m\u001b[0;34m)\u001b[0m\u001b[0;34m\u001b[0m\u001b[0;34m\u001b[0m\u001b[0m\n\u001b[1;32m      7\u001b[0m   \u001b[0;32mreturn\u001b[0m \u001b[0mtokens\u001b[0m\u001b[0;34m\u001b[0m\u001b[0;34m\u001b[0m\u001b[0m\n",
            "\u001b[0;31mNameError\u001b[0m: name 'mseg' is not defined"
          ]
        }
      ]
    },
    {
      "cell_type": "markdown",
      "source": [
        "## Part 1 - add your own case\n",
        "\n",
        "**TASK**: Try adding your own case to your chatbot code - copy the 'Hello' segment, and make it respond to 'How are you?'\n",
        "\n",
        "Added: \n",
        "```\n",
        "elif msg == 'How are you?':\n",
        "    print('I\\'m pretty good, thanks!')\n",
        "```\n",
        "Note that we had to escape the apostrophe in I'm (I\\'m), as the string is single-quoted."
      ],
      "metadata": {
        "id": "ucqoW8Sbk9_j"
      }
    },
    {
      "cell_type": "markdown",
      "source": [
        "## Part 2 - switch to lowercase\n",
        "\n",
        "**TASK**: Modify your script to converting the input to lowercase before processing.\n",
        "\n",
        "Replaced: \n",
        "```\n",
        "msg = input()\n",
        "```\n",
        "with\n",
        "```\n",
        "msg = input().lower()\n",
        "```\n",
        "to convert the user input to lowercase.\n",
        "\n",
        "Then had to update all the tested strings: (\"Hello\", \"How are you?\", and \"exit\") to only include lowercase characters (\"hello\", \"how are you?\", and \"exit\"), so that they match the lowercase input."
      ],
      "metadata": {
        "id": "wWDO8K7nlLTk"
      }
    },
    {
      "cell_type": "markdown",
      "source": [
        "## Part 3 - Creating the substring problem\n",
        "**TASK:** Update your script to use this to reply to the user with 'I love rain!' if they mention 'rain' anywhere in their message.\n",
        "\n",
        "Added:\n",
        "```\n",
        "  elif 'rain' in msg:\n",
        "    print('I love rain!')\n",
        "```\n",
        "(This is changed again before the end of the lesson)"
      ],
      "metadata": {
        "id": "UF1W5prrl1dE"
      }
    },
    {
      "cell_type": "markdown",
      "source": [
        "## Part 4 - Using tokens\n",
        "**TASK**: Update your script to use this technique. (Tokenizing input)\n",
        "\n",
        "Added:\n",
        "\n",
        "```\n",
        "def tokenize(msg):\n",
        "  msg = msg.lower()\n",
        "  tokens = msg.split(' ')\n",
        "  return tokens\n",
        "```\n",
        "Copy and pasted from lesson notebook. This has to go before the while loop.\n",
        "\n",
        "\n",
        "Added:\n",
        "\n",
        "```\n",
        "tokens = tokenize(msg)\n",
        "```\n",
        "right below the part where we capture user input.\n",
        "\n",
        "\n",
        "Replaced:\n",
        "```\n",
        "  elif 'rain' in msg:\n",
        "    print('I love rain!')\n",
        "```\n",
        "with\n",
        "\n",
        "```\n",
        "  elif 'rain' in tokens:\n",
        "    print('I love rain!')\n",
        "```\n",
        "(Checks in the list of tokens, rather than in the msg string)\n"
      ],
      "metadata": {
        "id": "wiskDb5cmt27"
      }
    },
    {
      "cell_type": "markdown",
      "source": [
        "## Part 5 - Removing punctuation\n",
        "\n",
        "**TASK:** Use *remove_punctuation* in your code.\n",
        "\n",
        "Added:\n",
        "```\n",
        "def remove_punctuation(msg):\n",
        "  symbols = ['?','-',',',':',';','!']\n",
        "  for symbol in symbols:\n",
        "    msg = msg.replace(symbol, '')\n",
        "  return msg\n",
        "```\n",
        "Copy and pasted from lesson notebook. This has to go before the while loop.\n",
        "\n",
        "\n",
        "Added:\n",
        "```\n",
        "msg = remove_punctuation(msg)\n",
        "```\n",
        "Between the lines where we capture user input, and where we tokenize it.\n",
        "\n",
        "They'll also need to remove punctuation from any existing cases (i.e. replace 'how are you?' with 'how are you').\n",
        "\n"
      ],
      "metadata": {
        "id": "IP4Y_FN2oOKH"
      }
    },
    {
      "cell_type": "markdown",
      "source": [
        "## Part 6 - Making it complicated (Atomic Numbers)\n",
        "**TASK**: Update your chatbot to respond to questions about atomic numbers. Try adding a few more elements to the dictionary.\n",
        "\n",
        "Added:\n",
        "\n",
        "```\n",
        "elements = {\n",
        "    'hydrogen': 1,\n",
        "    'oxygen': 8,\n",
        "    'carbon': 3,\n",
        "    'plutonium': 94,\n",
        "    'helium': 2,\n",
        "    'lithium': 3\n",
        "}\n",
        "```\n",
        "above while loop.\n",
        "\n",
        "Added:\n",
        "\n",
        "```\n",
        "  elif 'atomic number' in msg:\n",
        "    found_element = False\n",
        "    for token in tokens:\n",
        "      if token in elements:\n",
        "        print('The atomic number for {element} is {symbol}'.format(element=token, symbol=elements[token]))\n",
        "        found_element = True\n",
        "    if not found_element:\n",
        "      print('You asked about an atomic number, but I don\\'t recognise an element name in your message')\n",
        "```\n",
        "as an additional case.\n",
        "\n",
        "Mostly a copy-paste from the lesson, but adding some additional elements to the dictionary (atomic number can be found online), and modifying the first line of the snippet, to use \"elif\" instead of \"if\", and \"msg\" instead of \"normalized_msg\", to integrate properly with the student's program."
      ],
      "metadata": {
        "id": "P1YFcV3jpVSe"
      }
    }
  ]
}