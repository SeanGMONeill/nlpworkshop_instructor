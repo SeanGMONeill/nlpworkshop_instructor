{
  "nbformat": 4,
  "nbformat_minor": 0,
  "metadata": {
    "colab": {
      "provenance": [],
      "authorship_tag": "ABX9TyMqFNpsYgNv7cT3PebGWBXE",
      "include_colab_link": true
    },
    "kernelspec": {
      "name": "python3",
      "display_name": "Python 3"
    },
    "language_info": {
      "name": "python"
    }
  },
  "cells": [
    {
      "cell_type": "markdown",
      "metadata": {
        "id": "view-in-github",
        "colab_type": "text"
      },
      "source": [
        "<a href=\"https://colab.research.google.com/github/SeanGMONeill/nlpworkshop_instructor/blob/main/Lesson2_Checkpoint.ipynb\" target=\"_parent\"><img src=\"https://colab.research.google.com/assets/colab-badge.svg\" alt=\"Open In Colab\"/></a>"
      ]
    },
    {
      "cell_type": "markdown",
      "source": [
        "Example of how student code should look at the end of this lesson:"
      ],
      "metadata": {
        "id": "S5RyG5LDntmJ"
      }
    },
    {
      "cell_type": "code",
      "source": [
        "# Initialize the run variable to True\n",
        "run = True\n",
        "\n",
        "def tokenize(msg):\n",
        "  msg = msg.lower()\n",
        "  tokens = msg.split(' ')\n",
        "  return tokens\n",
        "\n",
        "\n",
        "def remove_punctuation(msg):\n",
        "  symbols = ['?','-',',',':',';','!']\n",
        "  for symbol in symbols:\n",
        "    msg = msg.replace(symbol, '')\n",
        "  return msg\n",
        "\n",
        "elements = {\n",
        "    'hydrogen': 1,\n",
        "    'oxygen': 8,\n",
        "    'carbon': 3,\n",
        "    'plutonium': 94,\n",
        "    'helium': 2,\n",
        "    'lithium': 3\n",
        "}\n",
        "\n",
        "\n",
        "# While run is still True, loop through the rest of the script\n",
        "while run:\n",
        "  # Wait for the user to input text, and store it in the msg variable\n",
        "  msg = input().lower()\n",
        "  msg = remove_punctuation(msg)\n",
        "  print(msg)\n",
        "  tokens = tokenize(msg)\n",
        "  print(tokens)\n",
        "  # Give a response, based on the input (if we recognise it)\n",
        "  if msg == 'exit':\n",
        "    print('Goodbye!')\n",
        "    # Set run to False, so the loop won't run again\n",
        "    # This means we won't be trapped in an infinite loop\n",
        "    run = False\n",
        "  elif msg == 'hello':\n",
        "    print('Hi!')\n",
        "  elif msg == 'how are you?':\n",
        "    print('I\\'m pretty good, thanks!')\n",
        "  elif 'rain' in tokens:\n",
        "    print('I love rain!')\n",
        "  elif 'atomic number' in msg:\n",
        "    found_element = False\n",
        "    for token in tokens:\n",
        "      if token in elements:\n",
        "        print('The atomic number for {element} is {symbol}'.format(element=token, symbol=elements[token]))\n",
        "        found_element = True\n",
        "    if not found_element:\n",
        "      print('You asked about an atomic number, but I don\\'t recognise an element name in your message')\n",
        "  # If the input doesn't match any of our statements, print a generic answer\n",
        "  else:\n",
        "    print('Sorry, I don\\'t understand')"
      ],
      "metadata": {
        "colab": {
          "base_uri": "https://localhost:8080/",
          "height": 533
        },
        "id": "MWtiF19mqBYl",
        "outputId": "1b8ceba4-e71d-443e-967c-e59e5d828284"
      },
      "execution_count": 10,
      "outputs": [
        {
          "output_type": "stream",
          "name": "stdout",
          "text": [
            "What is the atomic number for plutonium?\n",
            "what is the atomic number for plutonium\n",
            "['what', 'is', 'the', 'atomic', 'number', 'for', 'plutonium']\n",
            "The atomic number for plutonium is 94\n",
            "atomic number for gold\n",
            "atomic number for gold\n",
            "['atomic', 'number', 'for', 'gold']\n",
            "You asked about an atomic number, but I don't recognise an element name in your message\n"
          ]
        },
        {
          "output_type": "error",
          "ename": "KeyboardInterrupt",
          "evalue": "ignored",
          "traceback": [
            "\u001b[0;31m---------------------------------------------------------------------------\u001b[0m",
            "\u001b[0;31mKeyboardInterrupt\u001b[0m                         Traceback (most recent call last)",
            "\u001b[0;32m<ipython-input-10-959090714e43>\u001b[0m in \u001b[0;36m<module>\u001b[0;34m\u001b[0m\n\u001b[1;32m     27\u001b[0m \u001b[0;32mwhile\u001b[0m \u001b[0mrun\u001b[0m\u001b[0;34m:\u001b[0m\u001b[0;34m\u001b[0m\u001b[0;34m\u001b[0m\u001b[0m\n\u001b[1;32m     28\u001b[0m   \u001b[0;31m# Wait for the user to input text, and store it in the msg variable\u001b[0m\u001b[0;34m\u001b[0m\u001b[0;34m\u001b[0m\u001b[0;34m\u001b[0m\u001b[0m\n\u001b[0;32m---> 29\u001b[0;31m   \u001b[0mmsg\u001b[0m \u001b[0;34m=\u001b[0m \u001b[0minput\u001b[0m\u001b[0;34m(\u001b[0m\u001b[0;34m)\u001b[0m\u001b[0;34m.\u001b[0m\u001b[0mlower\u001b[0m\u001b[0;34m(\u001b[0m\u001b[0;34m)\u001b[0m\u001b[0;34m\u001b[0m\u001b[0;34m\u001b[0m\u001b[0m\n\u001b[0m\u001b[1;32m     30\u001b[0m   \u001b[0mmsg\u001b[0m \u001b[0;34m=\u001b[0m \u001b[0mremove_punctuation\u001b[0m\u001b[0;34m(\u001b[0m\u001b[0mmsg\u001b[0m\u001b[0;34m)\u001b[0m\u001b[0;34m\u001b[0m\u001b[0;34m\u001b[0m\u001b[0m\n\u001b[1;32m     31\u001b[0m   \u001b[0mprint\u001b[0m\u001b[0;34m(\u001b[0m\u001b[0mmsg\u001b[0m\u001b[0;34m)\u001b[0m\u001b[0;34m\u001b[0m\u001b[0;34m\u001b[0m\u001b[0m\n",
            "\u001b[0;32m/usr/local/lib/python3.8/dist-packages/ipykernel/kernelbase.py\u001b[0m in \u001b[0;36mraw_input\u001b[0;34m(self, prompt)\u001b[0m\n\u001b[1;32m    858\u001b[0m                 \u001b[0;34m\"raw_input was called, but this frontend does not support input requests.\"\u001b[0m\u001b[0;34m\u001b[0m\u001b[0;34m\u001b[0m\u001b[0m\n\u001b[1;32m    859\u001b[0m             )\n\u001b[0;32m--> 860\u001b[0;31m         return self._input_request(str(prompt),\n\u001b[0m\u001b[1;32m    861\u001b[0m             \u001b[0mself\u001b[0m\u001b[0;34m.\u001b[0m\u001b[0m_parent_ident\u001b[0m\u001b[0;34m,\u001b[0m\u001b[0;34m\u001b[0m\u001b[0;34m\u001b[0m\u001b[0m\n\u001b[1;32m    862\u001b[0m             \u001b[0mself\u001b[0m\u001b[0;34m.\u001b[0m\u001b[0m_parent_header\u001b[0m\u001b[0;34m,\u001b[0m\u001b[0;34m\u001b[0m\u001b[0;34m\u001b[0m\u001b[0m\n",
            "\u001b[0;32m/usr/local/lib/python3.8/dist-packages/ipykernel/kernelbase.py\u001b[0m in \u001b[0;36m_input_request\u001b[0;34m(self, prompt, ident, parent, password)\u001b[0m\n\u001b[1;32m    902\u001b[0m             \u001b[0;32mexcept\u001b[0m \u001b[0mKeyboardInterrupt\u001b[0m\u001b[0;34m:\u001b[0m\u001b[0;34m\u001b[0m\u001b[0;34m\u001b[0m\u001b[0m\n\u001b[1;32m    903\u001b[0m                 \u001b[0;31m# re-raise KeyboardInterrupt, to truncate traceback\u001b[0m\u001b[0;34m\u001b[0m\u001b[0;34m\u001b[0m\u001b[0;34m\u001b[0m\u001b[0m\n\u001b[0;32m--> 904\u001b[0;31m                 \u001b[0;32mraise\u001b[0m \u001b[0mKeyboardInterrupt\u001b[0m\u001b[0;34m(\u001b[0m\u001b[0;34m\"Interrupted by user\"\u001b[0m\u001b[0;34m)\u001b[0m \u001b[0;32mfrom\u001b[0m \u001b[0;32mNone\u001b[0m\u001b[0;34m\u001b[0m\u001b[0;34m\u001b[0m\u001b[0m\n\u001b[0m\u001b[1;32m    905\u001b[0m             \u001b[0;32mexcept\u001b[0m \u001b[0mException\u001b[0m \u001b[0;32mas\u001b[0m \u001b[0me\u001b[0m\u001b[0;34m:\u001b[0m\u001b[0;34m\u001b[0m\u001b[0;34m\u001b[0m\u001b[0m\n\u001b[1;32m    906\u001b[0m                 \u001b[0mself\u001b[0m\u001b[0;34m.\u001b[0m\u001b[0mlog\u001b[0m\u001b[0;34m.\u001b[0m\u001b[0mwarning\u001b[0m\u001b[0;34m(\u001b[0m\u001b[0;34m\"Invalid Message:\"\u001b[0m\u001b[0;34m,\u001b[0m \u001b[0mexc_info\u001b[0m\u001b[0;34m=\u001b[0m\u001b[0;32mTrue\u001b[0m\u001b[0;34m)\u001b[0m\u001b[0;34m\u001b[0m\u001b[0;34m\u001b[0m\u001b[0m\n",
            "\u001b[0;31mKeyboardInterrupt\u001b[0m: Interrupted by user"
          ]
        }
      ]
    },
    {
      "cell_type": "markdown",
      "source": [
        "## Part 1 - add your own case\n",
        "\n",
        "**TASK**: Try adding your own case to your chatbot code - copy the 'Hello' segment, and make it respond to 'How are you?'\n",
        "\n",
        "Added: \n",
        "```\n",
        "elif msg == 'How are you?':\n",
        "    print('I\\'m pretty good, thanks!')\n",
        "```\n",
        "Note that we had to escape the apostrophe in I'm (I\\'m), as the string is single-quoted."
      ],
      "metadata": {
        "id": "ucqoW8Sbk9_j"
      }
    },
    {
      "cell_type": "markdown",
      "source": [
        "## Part 2 - switch to lowercase\n",
        "\n",
        "**TASK**: Modify your script to converting the input to lowercase before processing.\n",
        "\n",
        "Replaced: \n",
        "```\n",
        "msg = input()\n",
        "```\n",
        "with\n",
        "```\n",
        "msg = input().lower()\n",
        "```\n",
        "to convert the user input to lowercase.\n",
        "\n",
        "Then had to update all the tested strings: (\"Hello\", \"How are you?\", and \"exit\") to only include lowercase characters (\"hello\", \"how are you?\", and \"exit\"), so that they match the lowercase input."
      ],
      "metadata": {
        "id": "wWDO8K7nlLTk"
      }
    },
    {
      "cell_type": "markdown",
      "source": [
        "## Part 3 - Creating the substring problem\n",
        "**TASK:** Update your script to use this to reply to the user with 'I love rain!' if they mention 'rain' anywhere in their message.\n",
        "\n",
        "Added:\n",
        "```\n",
        "  elif 'rain' in msg:\n",
        "    print('I love rain!')\n",
        "```\n",
        "(This is changed again before the end of the lesson)"
      ],
      "metadata": {
        "id": "UF1W5prrl1dE"
      }
    },
    {
      "cell_type": "markdown",
      "source": [
        "## Part 4 - Using tokens\n",
        "**TASK**: Update your script to use this technique. (Tokenizing input)\n",
        "\n",
        "Added:\n",
        "\n",
        "```\n",
        "def tokenize(msg):\n",
        "  msg = msg.lower()\n",
        "  tokens = msg.split(' ')\n",
        "  return tokens\n",
        "```\n",
        "Copy and pasted from lesson notebook. This has to go before the while loop.\n",
        "\n",
        "\n",
        "Added:\n",
        "\n",
        "```\n",
        "tokens = tokenize(msg)\n",
        "```\n",
        "right below the part where we capture user input.\n",
        "\n",
        "\n",
        "Replaced:\n",
        "```\n",
        "  elif 'rain' in msg:\n",
        "    print('I love rain!')\n",
        "```\n",
        "with\n",
        "\n",
        "```\n",
        "  elif 'rain' in tokens:\n",
        "    print('I love rain!')\n",
        "```\n",
        "(Checks in the list of tokens, rather than in the msg string)\n"
      ],
      "metadata": {
        "id": "wiskDb5cmt27"
      }
    },
    {
      "cell_type": "markdown",
      "source": [
        "## Part 5 - Removing punctuation\n",
        "\n",
        "**TASK:** Use *remove_punctuation* in your code.\n",
        "\n",
        "Added:\n",
        "```\n",
        "def remove_punctuation(msg):\n",
        "  symbols = ['?','-',',',':',';','!']\n",
        "  for symbol in symbols:\n",
        "    msg = msg.replace(symbol, '')\n",
        "  return msg\n",
        "```\n",
        "Copy and pasted from lesson notebook. This has to go before the while loop.\n",
        "\n",
        "\n",
        "Added:\n",
        "```\n",
        "msg = remove_punctuation(msg)\n",
        "```\n",
        "Between the lines where we capture user input, and where we tokenize it.\n",
        "\n"
      ],
      "metadata": {
        "id": "IP4Y_FN2oOKH"
      }
    },
    {
      "cell_type": "markdown",
      "source": [
        "## Part 6 - Making it complicated (Atomic Numbers)\n",
        "**TASK**: Update your chatbot to respond to questions about atomic numbers. Try adding a few more elements to the dictionary.\n",
        "\n",
        "Added:\n",
        "\n",
        "```\n",
        "elements = {\n",
        "    'hydrogen': 1,\n",
        "    'oxygen': 8,\n",
        "    'carbon': 3,\n",
        "    'plutonium': 94,\n",
        "    'helium': 2,\n",
        "    'lithium': 3\n",
        "}\n",
        "```\n",
        "above while loop.\n",
        "\n",
        "Added:\n",
        "\n",
        "```\n",
        "  elif 'atomic number' in msg:\n",
        "    found_element = False\n",
        "    for token in tokens:\n",
        "      if token in elements:\n",
        "        print('The atomic number for {element} is {symbol}'.format(element=token, symbol=elements[token]))\n",
        "        found_element = True\n",
        "    if not found_element:\n",
        "      print('You asked about an atomic number, but I don\\'t recognise an element name in your message')\n",
        "```\n",
        "as an additional case.\n",
        "\n",
        "Mostly a copy-paste from the lesson, but adding some additional elements to the dictionary (atomic number can be found online), and modifying the first line of the snippet, to use \"elif\" instead of \"if\", and \"msg\" instead of \"normalized_msg\", to integrate properly with the student's program."
      ],
      "metadata": {
        "id": "P1YFcV3jpVSe"
      }
    }
  ]
}